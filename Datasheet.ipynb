{
  "nbformat": 4,
  "nbformat_minor": 0,
  "metadata": {
    "colab": {
      "provenance": [],
      "mount_file_id": "1gxsqE6hZbFjemjTAXlRlt3_vf-fXVe29",
      "authorship_tag": "ABX9TyNZqJu0WcSX1jsGFgAPwhV1",
      "include_colab_link": true
    },
    "kernelspec": {
      "name": "python3",
      "display_name": "Python 3"
    },
    "language_info": {
      "name": "python"
    }
  },
  "cells": [
    {
      "cell_type": "markdown",
      "metadata": {
        "id": "view-in-github",
        "colab_type": "text"
      },
      "source": [
        "<a href=\"https://colab.research.google.com/github/HelenSaraAlex/NexForce/blob/main/Datasheet.ipynb\" target=\"_parent\"><img src=\"https://colab.research.google.com/assets/colab-badge.svg\" alt=\"Open In Colab\"/></a>"
      ]
    },
    {
      "cell_type": "code",
      "source": [
        "from google.colab import drive\n",
        "drive.mount(\"/content/drive\")"
      ],
      "metadata": {
        "colab": {
          "base_uri": "https://localhost:8080/"
        },
        "id": "V0aFUQhtP33t",
        "outputId": "c1928fd5-caa6-40d8-cd8d-8792848d7d61"
      },
      "execution_count": 1,
      "outputs": [
        {
          "output_type": "stream",
          "name": "stdout",
          "text": [
            "Drive already mounted at /content/drive; to attempt to forcibly remount, call drive.mount(\"/content/drive\", force_remount=True).\n"
          ]
        }
      ]
    },
    {
      "cell_type": "code",
      "execution_count": 2,
      "metadata": {
        "id": "2s6E-OjvNQcI"
      },
      "outputs": [],
      "source": [
        "import pandas as pd"
      ]
    },
    {
      "cell_type": "code",
      "source": [
        "path=\"/content/drive/MyDrive/Nexforce/SOCR-HeightWeight.csv\"\n",
        "\n",
        "\n",
        "data = pd.read_csv('/content/drive/MyDrive/Nexforce/SOCR-HeightWeight.csv')\n",
        "\n",
        "mean_column1 = data['Height(Inches)'].mean()\n",
        "mean_column2 = data['Weight(Pounds)'].mean()\n",
        "\n",
        "median_column1 = data['Height(Inches)'].median()\n",
        "median_column2 = data['Weight(Pounds)'].median()\n",
        "try:\n",
        "    mode_column1 = data['Height(Inches)'].mode().iloc[0]\n",
        "except:\n",
        "    mode_column1 = \"No unique mode for Height\"\n",
        "\n",
        "try:\n",
        "    mode_column2 = data['Weight(Pounds)'].mode().iloc[0]\n",
        "except:\n",
        "    mode_column2 = \"No unique mode for Weight\"\n",
        "\n",
        "print(\"Mean of Height:\", mean_column1)\n",
        "print(\"Mean for Weight:\", mean_column2)\n",
        "print(\"Median for Height:\", median_column1)\n",
        "print(\"Median for Weight:\", median_column2)\n",
        "print(\"Mode for Height:\", mode_column1)\n",
        "print(\"Mode for Weight:\", mode_column1)\n",
        "\n",
        "\n"
      ],
      "metadata": {
        "colab": {
          "base_uri": "https://localhost:8080/"
        },
        "id": "T_Ukl_MJOdSj",
        "outputId": "e78d39d7-5e1f-48b4-80b1-f6885f592202"
      },
      "execution_count": 6,
      "outputs": [
        {
          "output_type": "stream",
          "name": "stdout",
          "text": [
            "Mean of Height: 67.99311359679999\n",
            "Mean for Weight: 127.07942116080001\n",
            "Median for Height: 67.9957\n",
            "Median for Weight: 127.15775\n",
            "Mode for Height: 65.65796\n",
            "Mode for Weight: 65.65796\n"
          ]
        }
      ]
    }
  ]
}